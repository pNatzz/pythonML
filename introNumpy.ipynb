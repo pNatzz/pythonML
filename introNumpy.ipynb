{
  "nbformat": 4,
  "nbformat_minor": 0,
  "metadata": {
    "colab": {
      "name": "introNumpy",
      "provenance": [],
      "authorship_tag": "ABX9TyNRx5WKNzriLkeMw2fJJ7tu",
      "include_colab_link": true
    },
    "kernelspec": {
      "name": "python3",
      "display_name": "Python 3"
    }
  },
  "cells": [
    {
      "cell_type": "markdown",
      "metadata": {
        "id": "view-in-github",
        "colab_type": "text"
      },
      "source": [
        "<a href=\"https://colab.research.google.com/github/pNatzz/pythonML/blob/master/introNumpy.ipynb\" target=\"_parent\"><img src=\"https://colab.research.google.com/assets/colab-badge.svg\" alt=\"Open In Colab\"/></a>"
      ]
    },
    {
      "cell_type": "code",
      "metadata": {
        "id": "yT2lIi3yTApQ"
      },
      "source": [
        "import numpy as np "
      ],
      "execution_count": 1,
      "outputs": []
    },
    {
      "cell_type": "code",
      "metadata": {
        "id": "sJ4J7vUZTh-G"
      },
      "source": [
        "nrow, ncol = 2, 10"
      ],
      "execution_count": 6,
      "outputs": []
    },
    {
      "cell_type": "code",
      "metadata": {
        "colab": {
          "base_uri": "https://localhost:8080/"
        },
        "id": "FiML0B9QUDk-",
        "outputId": "9a288ecb-bc2b-417a-9cc0-364f56920921"
      },
      "source": [
        "numList = np.random.uniform(0, 100, size = (nrow, ncol))\r\n",
        "print(numList)"
      ],
      "execution_count": 9,
      "outputs": [
        {
          "output_type": "stream",
          "text": [
            "[[52.50171907  5.0561824   6.53238487 54.49508727  2.55286442  3.80227277\n",
            "  51.65927216 33.90411854 18.83139929 15.38488734]\n",
            " [74.18219558 98.55415638 55.06014365 35.91504397 21.78893669 17.77982654\n",
            "  10.60744201 63.55676787 48.0963656  52.01718743]]\n"
          ],
          "name": "stdout"
        }
      ]
    },
    {
      "cell_type": "code",
      "metadata": {
        "colab": {
          "base_uri": "https://localhost:8080/"
        },
        "id": "BqeX6WU_UIuF",
        "outputId": "bf2f1c17-1afc-4804-942d-ffa6131e664f"
      },
      "source": [
        "arr = np.array(numList)\r\n",
        "print(arr)"
      ],
      "execution_count": 10,
      "outputs": [
        {
          "output_type": "stream",
          "text": [
            "[[52.50171907  5.0561824   6.53238487 54.49508727  2.55286442  3.80227277\n",
            "  51.65927216 33.90411854 18.83139929 15.38488734]\n",
            " [74.18219558 98.55415638 55.06014365 35.91504397 21.78893669 17.77982654\n",
            "  10.60744201 63.55676787 48.0963656  52.01718743]]\n"
          ],
          "name": "stdout"
        }
      ]
    },
    {
      "cell_type": "code",
      "metadata": {
        "colab": {
          "base_uri": "https://localhost:8080/"
        },
        "id": "rWBJblOzUaxL",
        "outputId": "7a736e0e-d637-403d-c498-d49597aff8c6"
      },
      "source": [
        "print(\"Min : \", np.min(arr))\r\n",
        "print(\"Max : \", np.max(arr))\r\n",
        "print(\"Mean: \", np.mean(arr))\r\n",
        "print(\"SUM : \", np.sum(arr))\r\n",
        "print(\"STD : \", np.std(arr))\r\n",
        "print(\"VAR : \", np.var(arr))"
      ],
      "execution_count": 11,
      "outputs": [
        {
          "output_type": "stream",
          "text": [
            "Min :  2.5528644224385832\n",
            "Max :  98.5541563755162\n",
            "Mean:  36.11391269168068\n",
            "SUM :  722.2782538336137\n",
            "STD :  26.115021633362797\n",
            "VAR :  681.9943549110069\n"
          ],
          "name": "stdout"
        }
      ]
    },
    {
      "cell_type": "code",
      "metadata": {
        "colab": {
          "base_uri": "https://localhost:8080/"
        },
        "id": "WPs4gpKSUgmb",
        "outputId": "dc602ad3-34ba-4e37-ae34-94844fda2f8d"
      },
      "source": [
        "print(arr >= np.mean(arr))"
      ],
      "execution_count": 12,
      "outputs": [
        {
          "output_type": "stream",
          "text": [
            "[[ True False False  True False False  True False False False]\n",
            " [ True  True  True False False False False  True  True  True]]\n"
          ],
          "name": "stdout"
        }
      ]
    }
  ]
}